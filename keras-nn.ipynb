{
 "cells": [
  {
   "cell_type": "code",
   "execution_count": 1,
   "metadata": {},
   "outputs": [
    {
     "name": "stderr",
     "output_type": "stream",
     "text": [
      "d:\\dev\\python\\mlacourse\\venv\\lib\\site-packages\\gensim\\utils.py:1212: UserWarning: detected Windows; aliasing chunkize to chunkize_serial\n",
      "  warnings.warn(\"detected Windows; aliasing chunkize to chunkize_serial\")\n"
     ]
    }
   ],
   "source": [
    "from collections import Counter\n",
    "import numpy as np\n",
    "import nltk\n",
    "import re\n",
    "import sklearn.manifold\n",
    "import multiprocessing\n",
    "import pandas as pd\n",
    "import gensim.models.word2vec as w2v"
   ]
  },
  {
   "cell_type": "code",
   "execution_count": 2,
   "metadata": {},
   "outputs": [
    {
     "data": {
      "text/plain": [
       "red blend                        12709\n",
       "blauer arbst                      8156\n",
       "chardonnay                        7969\n",
       "cabernet sauvignon                7363\n",
       "shiraz                            4299\n",
       "sauvignon blanc                   3493\n",
       "white blend                       3417\n",
       "brunello                          3175\n",
       "crouchen                          3135\n",
       "merlot                            2788\n",
       "zinfandel                         2256\n",
       "sparkling blend                   1780\n",
       "malbec                            1730\n",
       "rose blend                        1659\n",
       "aragónez                          1633\n",
       "canari noir                       1500\n",
       "nebbiolo                          1164\n",
       "corvina, rondinella, molinara      970\n",
       "cabernet franc                     766\n",
       "viognier                           738\n",
       "champagne blend                    711\n",
       "fortified blend                    684\n",
       "grüner veltliner                   614\n",
       "gewürztraminer                     599\n",
       "barbera                            595\n",
       "cabernet sauvignon blend           548\n",
       "durif                              506\n",
       "muscat                             476\n",
       "carmenère                          428\n",
       "tempranillo blend                  424\n",
       "chenin blanc                       391\n",
       "pinot blanc                        387\n",
       "albariño                           356\n",
       "garnatxa                           350\n",
       "gamay                              324\n",
       "alicante henri bouschet            256\n",
       "aglianico                          215\n",
       "torrontés                          197\n",
       "mourvèdre                          192\n",
       "garganega                          190\n",
       "verdejo                            178\n",
       "dolcetto                           171\n",
       "shiraz blend                       165\n",
       "blaufränkisch                      147\n",
       "petit verdot                       132\n",
       "vermentino                         127\n",
       "sémillon                           127\n",
       "zweigelt                           121\n",
       "pinotage                           115\n",
       "touriga nacional                   105\n",
       "furmint                            105\n",
       "mencía                             104\n",
       "roussanne                          101\n",
       "Name: super clear variety, dtype: int64"
      ]
     },
     "execution_count": 2,
     "metadata": {},
     "output_type": "execute_result"
    }
   ],
   "source": [
    "data = pd.read_csv(r'D:\\codebase\\notebooks\\course_tasks\\sommelier\\sommelier_train_clear_v2.csv')\n",
    "data = data.groupby(\"super clear variety\").filter(lambda x: len(x) >100)\n",
    "data[\"super clear variety\"].value_counts()"
   ]
  },
  {
   "cell_type": "code",
   "execution_count": 3,
   "metadata": {},
   "outputs": [
    {
     "data": {
      "text/plain": [
       "red blend                        12709\n",
       "blauer arbst                      8156\n",
       "chardonnay                        7969\n",
       "cabernet sauvignon                7363\n",
       "shiraz                            4299\n",
       "sauvignon blanc                   3493\n",
       "white blend                       3417\n",
       "brunello                          3175\n",
       "crouchen                          3135\n",
       "merlot                            2788\n",
       "zinfandel                         2256\n",
       "sparkling blend                   1780\n",
       "malbec                            1730\n",
       "rose blend                        1659\n",
       "aragónez                          1633\n",
       "canari noir                       1500\n",
       "nebbiolo                          1164\n",
       "corvina, rondinella, molinara      970\n",
       "cabernet franc                     766\n",
       "viognier                           738\n",
       "champagne blend                    711\n",
       "fortified blend                    684\n",
       "grüner veltliner                   614\n",
       "gewürztraminer                     599\n",
       "barbera                            595\n",
       "cabernet sauvignon blend           548\n",
       "durif                              506\n",
       "muscat                             476\n",
       "carmenère                          428\n",
       "tempranillo blend                  424\n",
       "chenin blanc                       391\n",
       "pinot blanc                        387\n",
       "albariño                           356\n",
       "garnatxa                           350\n",
       "gamay                              324\n",
       "alicante henri bouschet            256\n",
       "aglianico                          215\n",
       "torrontés                          197\n",
       "mourvèdre                          192\n",
       "garganega                          190\n",
       "verdejo                            178\n",
       "dolcetto                           171\n",
       "shiraz blend                       165\n",
       "blaufränkisch                      147\n",
       "petit verdot                       132\n",
       "vermentino                         127\n",
       "sémillon                           127\n",
       "zweigelt                           121\n",
       "pinotage                           115\n",
       "touriga nacional                   105\n",
       "furmint                            105\n",
       "mencía                             104\n",
       "roussanne                          101\n",
       "Name: super clear variety, dtype: int64"
      ]
     },
     "execution_count": 3,
     "metadata": {},
     "output_type": "execute_result"
    }
   ],
   "source": [
    "labels = data['super clear variety']\n",
    "descriptions = data['Description']\n",
    "labels.value_counts()"
   ]
  },
  {
   "cell_type": "code",
   "execution_count": 5,
   "metadata": {},
   "outputs": [
    {
     "name": "stdout",
     "output_type": "stream",
     "text": [
      "(79935, 28093)\n",
      "(79935,)\n"
     ]
    }
   ],
   "source": [
    "from sklearn.preprocessing import OneHotEncoder\n",
    "from sklearn.feature_extraction.text import TfidfVectorizer\n",
    "from imblearn.under_sampling import RandomUnderSampler, TomekLinks\n",
    "from imblearn.over_sampling import RandomOverSampler\n",
    "\n",
    "ohe = OneHotEncoder(sparse=False)\n",
    "vectorizer = TfidfVectorizer(stop_words='english')\n",
    "\n",
    "X = vectorizer.fit_transform(data['Description'])\n",
    "y = labels.values.reshape(-1,1)\n",
    "\n",
    "rus = TomekLinks(random_state=0)\n",
    "X, y = rus.fit_resample(X, y)\n",
    "\n",
    "y_labels = ohe.fit_transform(y.reshape(-1,1))\n",
    "\n",
    "\n",
    "print(X.shape)\n",
    "print(y.shape)"
   ]
  },
  {
   "cell_type": "code",
   "execution_count": null,
   "metadata": {},
   "outputs": [],
   "source": [
    "pd.DataFrame(y)[0].value_counts()"
   ]
  },
  {
   "cell_type": "code",
   "execution_count": 6,
   "metadata": {},
   "outputs": [],
   "source": [
    "# Получение обучающих и валидационных выборок для кросс-валидации\n",
    "from sklearn.model_selection import StratifiedKFold, KFold\n",
    "\n",
    "# Функция для построения графика изменения значений ошибки\n",
    "def loss_graph(epochs, train_loss, val_loss):\n",
    "    x_axis = np.linspace(1, epochs, num=epochs)\n",
    "    \n",
    "    plt.figure(figsize=(10, 7))\n",
    "    plt.plot(x_axis, train_loss, color='b', lw=3, alpha=0.7, label='Train Loss')\n",
    "    plt.plot(x_axis, val_loss, color='r', lw=3, alpha=0.7, label='Val Loss')\n",
    "    plt.title('Loss graph')\n",
    "    plt.xlabel('Epoch')\n",
    "    plt.ylabel('Loss')\n",
    "    plt.legend(loc='upper right')\n",
    "    plt.grid(True)\n",
    "    \n",
    "    \n",
    "# Функция для построеняи графика изменения значений метрики Accuracy\n",
    "def acc_graph(epochs, train_acc, val_acc):\n",
    "    x_axis = np.linspace(1, epochs, num=epochs)\n",
    "    \n",
    "    plt.figure(figsize=(10, 7))\n",
    "    plt.plot(x_axis, train_acc, color='g', lw=3, alpha=0.7, label='Train Accuracy')\n",
    "    plt.plot(x_axis, val_acc, color='orange', lw=3, alpha=0.7, label='Val Accuracy')\n",
    "    plt.title('Accuracy graph')\n",
    "    plt.xlabel('Epoch')\n",
    "    plt.ylabel('Accuracy')\n",
    "    plt.legend(loc='lower right')\n",
    "    plt.grid(True)\n",
    "    \n",
    "def train_validate_nn(model_getter, X, y, folds_num = 2, epochs_num = 500):\n",
    "    \n",
    "    kf = StratifiedKFold(n_splits=folds_num, shuffle=True)\n",
    "    X_trains, X_vals, y_trains, y_vals = [], [], [], []\n",
    "    for train_idx, val_idx in kf.split(X, ohe.inverse_transform(y)):\n",
    "        X_trains.append(X[train_idx])\n",
    "        X_vals.append(X[val_idx])\n",
    "        y_trains.append(y[train_idx])\n",
    "        y_vals.append(y[val_idx])\n",
    "    \n",
    "    train_loss = np.zeros((folds_num, epochs_num))\n",
    "    val_loss = np.zeros((folds_num, epochs_num))\n",
    "    train_acc = np.zeros((folds_num, epochs_num))\n",
    "    val_acc = np.zeros((folds_num, epochs_num))\n",
    "\n",
    "    model_index = 0\n",
    "    for i in range(len(X_trains)):\n",
    "        model = model_getter()\n",
    "        print('Model num ',model_index)\n",
    "        model_index = model_index + 1\n",
    "        log = model.fit(X_trains[i], y_trains[i], epochs=epochs_num, validation_data=(X_vals[i], y_vals[i]), shuffle=True,\\\n",
    "                 batch_size=16, verbose=1)\n",
    "        train_loss[i] = log.history.get('loss')\n",
    "        val_loss[i] = log.history.get('val_loss')\n",
    "        train_acc[i] = log.history.get('acc')\n",
    "        val_acc[i] = log.history.get('val_acc')\n",
    "    \n",
    "    train_loss_mean = train_loss.mean(axis=0).ravel()\n",
    "    val_loss_mean = val_loss.mean(axis=0).ravel()\n",
    "    train_acc_mean = train_acc.mean(axis=0).ravel()\n",
    "    val_acc_mean = val_acc.mean(axis=0).ravel()\n",
    "    return train_loss_mean, val_loss_mean, train_acc_mean, val_acc_mean"
   ]
  },
  {
   "cell_type": "code",
   "execution_count": 7,
   "metadata": {},
   "outputs": [
    {
     "name": "stderr",
     "output_type": "stream",
     "text": [
      "Using TensorFlow backend.\n",
      "d:\\dev\\python\\mlacourse\\venv\\lib\\site-packages\\ipykernel_launcher.py:9: UserWarning: Update your `Dense` call to the Keras 2 API: `Dense(128, input_shape=(28093,), activation=\"relu\", kernel_initializer=\"he_uniform\")`\n",
      "  if __name__ == '__main__':\n",
      "d:\\dev\\python\\mlacourse\\venv\\lib\\site-packages\\ipykernel_launcher.py:10: UserWarning: Update your `Dense` call to the Keras 2 API: `Dense(128, activation=\"relu\", kernel_initializer=\"he_uniform\")`\n",
      "  # Remove the CWD from sys.path while we load stuff.\n",
      "d:\\dev\\python\\mlacourse\\venv\\lib\\site-packages\\ipykernel_launcher.py:12: UserWarning: Update your `Dense` call to the Keras 2 API: `Dense(64, activation=\"relu\", kernel_initializer=\"he_uniform\")`\n",
      "  if sys.path[0] == '':\n",
      "d:\\dev\\python\\mlacourse\\venv\\lib\\site-packages\\ipykernel_launcher.py:13: UserWarning: Update your `Dense` call to the Keras 2 API: `Dense(53, activation=\"softmax\", kernel_initializer=\"glorot_uniform\")`\n",
      "  del sys.path[0]\n"
     ]
    },
    {
     "name": "stdout",
     "output_type": "stream",
     "text": [
      "Model num  0\n",
      "Train on 39952 samples, validate on 39983 samples\n",
      "Epoch 1/10\n",
      "39952/39952 [==============================] - 368s 9ms/step - loss: 1.8219 - acc: 0.5086 - val_loss: 1.3435 - val_acc: 0.6265\n",
      "Epoch 2/10\n",
      "39952/39952 [==============================] - 368s 9ms/step - loss: 0.9966 - acc: 0.7190 - val_loss: 1.2984 - val_acc: 0.6403\n",
      "Epoch 3/10\n",
      "39952/39952 [==============================] - 368s 9ms/step - loss: 0.6188 - acc: 0.8199 - val_loss: 1.4648 - val_acc: 0.6274\n",
      "Epoch 4/10\n",
      "39952/39952 [==============================] - 367s 9ms/step - loss: 0.3742 - acc: 0.8879 - val_loss: 1.7220 - val_acc: 0.6234\n",
      "Epoch 5/10\n",
      "39952/39952 [==============================] - 373s 9ms/step - loss: 0.2181 - acc: 0.9350 - val_loss: 2.1002 - val_acc: 0.6166\n",
      "Epoch 6/10\n",
      "39952/39952 [==============================] - 377s 9ms/step - loss: 0.1268 - acc: 0.9608 - val_loss: 2.4572 - val_acc: 0.6073\n",
      "Epoch 7/10\n",
      "39952/39952 [==============================] - 386s 10ms/step - loss: 0.0804 - acc: 0.9748 - val_loss: 2.7188 - val_acc: 0.6047\n",
      "Epoch 8/10\n",
      "39952/39952 [==============================] - 392s 10ms/step - loss: 0.0591 - acc: 0.9814 - val_loss: 2.9046 - val_acc: 0.6067\n",
      "Epoch 9/10\n",
      "39952/39952 [==============================] - 386s 10ms/step - loss: 0.0404 - acc: 0.9875 - val_loss: 3.1908 - val_acc: 0.6015\n",
      "Epoch 10/10\n",
      "39952/39952 [==============================] - 383s 10ms/step - loss: 0.0340 - acc: 0.9894 - val_loss: 3.3284 - val_acc: 0.5962\n",
      "Model num  1\n",
      "Train on 39983 samples, validate on 39952 samples\n",
      "Epoch 1/10\n",
      "39983/39983 [==============================] - 373s 9ms/step - loss: 1.8615 - acc: 0.5009 - val_loss: 1.3759 - val_acc: 0.6186\n",
      "Epoch 2/10\n",
      "39983/39983 [==============================] - 371s 9ms/step - loss: 1.0348 - acc: 0.7094 - val_loss: 1.3057 - val_acc: 0.6382\n",
      "Epoch 3/10\n",
      "39983/39983 [==============================] - 370s 9ms/step - loss: 0.6476 - acc: 0.8111 - val_loss: 1.4501 - val_acc: 0.6334\n",
      "Epoch 4/10\n",
      "39983/39983 [==============================] - 370s 9ms/step - loss: 0.3893 - acc: 0.8846 - val_loss: 1.7286 - val_acc: 0.6224\n",
      "Epoch 5/10\n",
      "39983/39983 [==============================] - 363s 9ms/step - loss: 0.2291 - acc: 0.9305 - val_loss: 2.0850 - val_acc: 0.6175\n",
      "Epoch 6/10\n",
      "39983/39983 [==============================] - 418s 10ms/step - loss: 0.1347 - acc: 0.9584 - val_loss: 2.3517 - val_acc: 0.6108\n",
      "Epoch 7/10\n",
      "39983/39983 [==============================] - 419s 10ms/step - loss: 0.0840 - acc: 0.9734 - val_loss: 2.6418 - val_acc: 0.6060\n",
      "Epoch 8/10\n",
      "39983/39983 [==============================] - 418s 10ms/step - loss: 0.0546 - acc: 0.9825 - val_loss: 3.0168 - val_acc: 0.6084\n",
      "Epoch 9/10\n",
      "39983/39983 [==============================] - 420s 10ms/step - loss: 0.0464 - acc: 0.9853 - val_loss: 3.1787 - val_acc: 0.6055\n",
      "Epoch 10/10\n",
      "39983/39983 [==============================] - 419s 10ms/step - loss: 0.0327 - acc: 0.9898 - val_loss: 3.3312 - val_acc: 0.6060\n"
     ]
    }
   ],
   "source": [
    "from keras.models import Sequential\n",
    "from keras.layers import Dense, Dropout, Embedding, Flatten\n",
    "from keras.regularizers import l2\n",
    "\n",
    "l2_lambda = 0.0001\n",
    "\n",
    "def get_model():\n",
    "    model = Sequential()\n",
    "    model.add(Dense(128,input_shape=(28093,), activation='relu',init='he_uniform' ))\n",
    "    model.add(Dense(128, activation='relu', init='he_uniform'))\n",
    "    model.add(Dropout(0.3))\n",
    "    model.add(Dense(64, activation='relu', init='he_uniform'))\n",
    "    model.add(Dense(53, activation='softmax', init='glorot_uniform'))\n",
    "    model.compile(loss='categorical_crossentropy', optimizer='adam', metrics=['accuracy'])\n",
    "    return model\n",
    "\n",
    "\n",
    "\n",
    "epochs_num = 10\n",
    "train_loss_mean, val_loss_mean, train_acc_mean, val_acc_mean = train_validate_nn(get_model, X, y_labels, epochs_num=epochs_num, folds_num=2)\n"
   ]
  },
  {
   "cell_type": "code",
   "execution_count": 8,
   "metadata": {},
   "outputs": [
    {
     "name": "stderr",
     "output_type": "stream",
     "text": [
      "d:\\dev\\python\\mlacourse\\venv\\lib\\site-packages\\ipykernel_launcher.py:9: UserWarning: Update your `Dense` call to the Keras 2 API: `Dense(128, input_shape=(28093,), activation=\"relu\", kernel_initializer=\"he_uniform\")`\n",
      "  if __name__ == '__main__':\n",
      "d:\\dev\\python\\mlacourse\\venv\\lib\\site-packages\\ipykernel_launcher.py:10: UserWarning: Update your `Dense` call to the Keras 2 API: `Dense(128, activation=\"relu\", kernel_initializer=\"he_uniform\")`\n",
      "  # Remove the CWD from sys.path while we load stuff.\n",
      "d:\\dev\\python\\mlacourse\\venv\\lib\\site-packages\\ipykernel_launcher.py:12: UserWarning: Update your `Dense` call to the Keras 2 API: `Dense(64, activation=\"relu\", kernel_initializer=\"he_uniform\")`\n",
      "  if sys.path[0] == '':\n",
      "d:\\dev\\python\\mlacourse\\venv\\lib\\site-packages\\ipykernel_launcher.py:13: UserWarning: Update your `Dense` call to the Keras 2 API: `Dense(53, activation=\"softmax\", kernel_initializer=\"glorot_uniform\")`\n",
      "  del sys.path[0]\n"
     ]
    },
    {
     "name": "stdout",
     "output_type": "stream",
     "text": [
      "_________________________________________________________________\n",
      "Layer (type)                 Output Shape              Param #   \n",
      "=================================================================\n",
      "dense_9 (Dense)              (None, 128)               3596032   \n",
      "_________________________________________________________________\n",
      "dense_10 (Dense)             (None, 128)               16512     \n",
      "_________________________________________________________________\n",
      "dropout_3 (Dropout)          (None, 128)               0         \n",
      "_________________________________________________________________\n",
      "dense_11 (Dense)             (None, 64)                8256      \n",
      "_________________________________________________________________\n",
      "dense_12 (Dense)             (None, 53)                3445      \n",
      "=================================================================\n",
      "Total params: 3,624,245\n",
      "Trainable params: 3,624,245\n",
      "Non-trainable params: 0\n",
      "_________________________________________________________________\n"
     ]
    }
   ],
   "source": [
    "get_model().summary()"
   ]
  },
  {
   "cell_type": "code",
   "execution_count": 9,
   "metadata": {},
   "outputs": [
    {
     "data": {
      "image/png": "[encoded data removed]",
      "text/plain": [
       "<Figure size 720x504 with 1 Axes>"
      ]
     },
     "metadata": {
      "needs_background": "light"
     },
     "output_type": "display_data"
    },
    {
     "data": {
      "image/png": "[encoded data removed]",
      "text/plain": [
       "<Figure size 720x504 with 1 Axes>"
      ]
     },
     "metadata": {
      "needs_background": "light"
     },
     "output_type": "display_data"
    }
   ],
   "source": [
    "import matplotlib.pyplot as plt\n",
    "%matplotlib inline\n",
    "\n",
    "loss_graph(epochs_num, train_loss_mean, val_loss_mean)\n",
    "acc_graph(epochs_num, train_acc_mean, val_acc_mean)"
   ]
  },
  {
   "cell_type": "code",
   "execution_count": 19,
   "metadata": {},
   "outputs": [
    {
     "name": "stderr",
     "output_type": "stream",
     "text": [
      "d:\\dev\\python\\mlacourse\\venv\\lib\\site-packages\\ipykernel_launcher.py:9: UserWarning: Update your `Dense` call to the Keras 2 API: `Dense(128, input_shape=(28093,), activation=\"relu\", kernel_initializer=\"he_uniform\")`\n",
      "  if __name__ == '__main__':\n",
      "d:\\dev\\python\\mlacourse\\venv\\lib\\site-packages\\ipykernel_launcher.py:10: UserWarning: Update your `Dense` call to the Keras 2 API: `Dense(128, activation=\"relu\", kernel_initializer=\"he_uniform\")`\n",
      "  # Remove the CWD from sys.path while we load stuff.\n",
      "d:\\dev\\python\\mlacourse\\venv\\lib\\site-packages\\ipykernel_launcher.py:12: UserWarning: Update your `Dense` call to the Keras 2 API: `Dense(64, activation=\"relu\", kernel_initializer=\"he_uniform\")`\n",
      "  if sys.path[0] == '':\n",
      "d:\\dev\\python\\mlacourse\\venv\\lib\\site-packages\\ipykernel_launcher.py:13: UserWarning: Update your `Dense` call to the Keras 2 API: `Dense(53, activation=\"softmax\", kernel_initializer=\"glorot_uniform\")`\n",
      "  del sys.path[0]\n"
     ]
    },
    {
     "name": "stdout",
     "output_type": "stream",
     "text": [
      "Epoch 1/8\n",
      "79935/79935 [==============================] - 689s 9ms/step - loss: 1.5605 - acc: 0.5735\n",
      "Epoch 2/8\n",
      "79935/79935 [==============================] - 685s 9ms/step - loss: 0.9378 - acc: 0.7304\n",
      "Epoch 3/8\n",
      "79935/79935 [==============================] - 685s 9ms/step - loss: 0.6442 - acc: 0.8092\n",
      "Epoch 4/8\n",
      "79935/79935 [==============================] - 688s 9ms/step - loss: 0.4299 - acc: 0.8701\n",
      "Epoch 5/8\n",
      "79935/79935 [==============================] - 686s 9ms/step - loss: 0.2821 - acc: 0.9141\n",
      "Epoch 6/8\n",
      "79935/79935 [==============================] - 685s 9ms/step - loss: 0.1858 - acc: 0.9422\n",
      "Epoch 7/8\n",
      "79935/79935 [==============================] - 701s 9ms/step - loss: 0.1302 - acc: 0.9590\n",
      "Epoch 8/8\n",
      "79935/79935 [==============================] - 699s 9ms/step - loss: 0.0964 - acc: 0.9694\n"
     ]
    }
   ],
   "source": [
    "model = get_model()\n",
    "\n",
    "log = model.fit(X, y_labels, epochs=8, shuffle=True, batch_size=16, verbose=1)\n",
    "\n",
    "yp = model.predict(X)\n",
    "model.save_weights('nn128x128.hd5')"
   ]
  },
  {
   "cell_type": "code",
   "execution_count": 20,
   "metadata": {},
   "outputs": [
    {
     "data": {
      "text/plain": [
       "0.9931319196847439"
      ]
     },
     "execution_count": 20,
     "metadata": {},
     "output_type": "execute_result"
    }
   ],
   "source": [
    "from sklearn.metrics import accuracy_score\n",
    "\n",
    "def undec(soft_vals):\n",
    "    result = np.zeros_like(soft_vals)\n",
    "    result[np.arange(len(soft_vals)), soft_vals.argmax(1)] = 1\n",
    "    return result\n",
    "\n",
    "yp = undec(yp)\n",
    "\n",
    "accuracy_score(y, ohe.inverse_transform(yp))"
   ]
  },
  {
   "cell_type": "code",
   "execution_count": 21,
   "metadata": {},
   "outputs": [
    {
     "name": "stdout",
     "output_type": "stream",
     "text": [
      "red blend  TOTAL:  12576 TRUE:  12513 PERCENT:  0.9949904580152672\n",
      "blauer arbst  TOTAL:  8088 TRUE:  8039 PERCENT:  0.9939416419386746\n",
      "tempranillo blend  TOTAL:  423 TRUE:  409 PERCENT:  0.966903073286052\n",
      "cabernet sauvignon  TOTAL:  7281 TRUE:  7257 PERCENT:  0.9967037494849609\n",
      "zinfandel  TOTAL:  2204 TRUE:  2193 PERCENT:  0.9950090744101633\n",
      "aragónez  TOTAL:  1628 TRUE:  1614 PERCENT:  0.9914004914004914\n",
      "verdejo  TOTAL:  177 TRUE:  175 PERCENT:  0.9887005649717514\n",
      "chardonnay  TOTAL:  7899 TRUE:  7879 PERCENT:  0.9974680339283454\n",
      "canari noir  TOTAL:  1475 TRUE:  1463 PERCENT:  0.991864406779661\n",
      "sauvignon blanc  TOTAL:  3458 TRUE:  3441 PERCENT:  0.9950838635049162\n",
      "gamay  TOTAL:  313 TRUE:  312 PERCENT:  0.9968051118210862\n",
      "white blend  TOTAL:  3352 TRUE:  3310 PERCENT:  0.9874701670644391\n",
      "albariño  TOTAL:  354 TRUE:  350 PERCENT:  0.9887005649717514\n",
      "merlot  TOTAL:  2730 TRUE:  2714 PERCENT:  0.9941391941391942\n",
      "torrontés  TOTAL:  195 TRUE:  194 PERCENT:  0.9948717948717949\n",
      "shiraz  TOTAL:  4264 TRUE:  4236 PERCENT:  0.9934333958724203\n",
      "aglianico  TOTAL:  211 TRUE:  210 PERCENT:  0.995260663507109\n",
      "viognier  TOTAL:  727 TRUE:  717 PERCENT:  0.9862448418156808\n",
      "sparkling blend  TOTAL:  1779 TRUE:  1769 PERCENT:  0.9943788645306352\n",
      "brunello  TOTAL:  3139 TRUE:  3122 PERCENT:  0.9945842625039821\n",
      "malbec  TOTAL:  1717 TRUE:  1690 PERCENT:  0.9842748980780431\n",
      "grüner veltliner  TOTAL:  603 TRUE:  595 PERCENT:  0.9867330016583747\n",
      "rose blend  TOTAL:  1626 TRUE:  1620 PERCENT:  0.996309963099631\n",
      "crouchen  TOTAL:  3121 TRUE:  3112 PERCENT:  0.9971163088753605\n",
      "muscat  TOTAL:  473 TRUE:  472 PERCENT:  0.9978858350951374\n",
      "gewürztraminer  TOTAL:  593 TRUE:  591 PERCENT:  0.9966273187183811\n",
      "champagne blend  TOTAL:  705 TRUE:  698 PERCENT:  0.9900709219858156\n",
      "dolcetto  TOTAL:  165 TRUE:  165 PERCENT:  1.0\n",
      "zweigelt  TOTAL:  117 TRUE:  103 PERCENT:  0.8803418803418803\n",
      "corvina, rondinella, molinara  TOTAL:  965 TRUE:  962 PERCENT:  0.9968911917098445\n",
      "cabernet franc  TOTAL:  747 TRUE:  742 PERCENT:  0.9933065595716198\n",
      "touriga nacional  TOTAL:  104 TRUE:  98 PERCENT:  0.9423076923076923\n",
      "garganega  TOTAL:  186 TRUE:  183 PERCENT:  0.9838709677419355\n",
      "barbera  TOTAL:  579 TRUE:  576 PERCENT:  0.9948186528497409\n",
      "roussanne  TOTAL:  101 TRUE:  101 PERCENT:  1.0\n",
      "pinot blanc  TOTAL:  380 TRUE:  360 PERCENT:  0.9473684210526315\n",
      "chenin blanc  TOTAL:  389 TRUE:  380 PERCENT:  0.9768637532133676\n",
      "cabernet sauvignon blend  TOTAL:  544 TRUE:  532 PERCENT:  0.9779411764705882\n",
      "blaufränkisch  TOTAL:  145 TRUE:  140 PERCENT:  0.9655172413793104\n",
      "fortified blend  TOTAL:  678 TRUE:  672 PERCENT:  0.9911504424778761\n",
      "nebbiolo  TOTAL:  1148 TRUE:  1139 PERCENT:  0.9921602787456446\n",
      "petit verdot  TOTAL:  129 TRUE:  127 PERCENT:  0.9844961240310077\n",
      "carmenère  TOTAL:  427 TRUE:  425 PERCENT:  0.9953161592505855\n",
      "durif  TOTAL:  492 TRUE:  482 PERCENT:  0.9796747967479674\n",
      "pinotage  TOTAL:  114 TRUE:  113 PERCENT:  0.9912280701754386\n",
      "garnatxa  TOTAL:  345 TRUE:  339 PERCENT:  0.9826086956521739\n",
      "furmint  TOTAL:  101 TRUE:  100 PERCENT:  0.9900990099009901\n",
      "alicante henri bouschet  TOTAL:  256 TRUE:  255 PERCENT:  0.99609375\n",
      "sémillon  TOTAL:  127 TRUE:  126 PERCENT:  0.9921259842519685\n",
      "mourvèdre  TOTAL:  192 TRUE:  189 PERCENT:  0.984375\n",
      "vermentino  TOTAL:  126 TRUE:  122 PERCENT:  0.9682539682539683\n",
      "shiraz blend  TOTAL:  163 TRUE:  157 PERCENT:  0.9631901840490797\n",
      "mencía  TOTAL:  104 TRUE:  103 PERCENT:  0.9903846153846154\n"
     ]
    }
   ],
   "source": [
    "uniqs  = list(data['super clear variety'].unique())\n",
    "results_pred = ohe.inverse_transform(yp)\n",
    "results = y\n",
    "\n",
    "frame = pd.DataFrame(results, columns=['super clear variety'])\n",
    "frame['Pred'] = results_pred\n",
    "total_cnt = frame.groupby(by='super clear variety').count().to_dict()['Pred']\n",
    "\n",
    "result = {}\n",
    "for v in uniqs:\n",
    "    cnt = total_cnt[v]\n",
    "    buf = frame[frame['super clear variety'] == v]['Pred'].value_counts()\n",
    "    result[v] = buf[v] / cnt\n",
    "    print(v, ' TOTAL: ',cnt, 'TRUE: ', buf[v], 'PERCENT: ', buf[v] / cnt)"
   ]
  },
  {
   "cell_type": "code",
   "execution_count": 22,
   "metadata": {},
   "outputs": [
    {
     "data": {
      "text/plain": [
       "[('zweigelt', 0.8803418803418803),\n",
       " ('touriga nacional', 0.9423076923076923),\n",
       " ('pinot blanc', 0.9473684210526315),\n",
       " ('shiraz blend', 0.9631901840490797),\n",
       " ('blaufränkisch', 0.9655172413793104),\n",
       " ('tempranillo blend', 0.966903073286052),\n",
       " ('vermentino', 0.9682539682539683),\n",
       " ('chenin blanc', 0.9768637532133676),\n",
       " ('cabernet sauvignon blend', 0.9779411764705882),\n",
       " ('durif', 0.9796747967479674),\n",
       " ('garnatxa', 0.9826086956521739),\n",
       " ('garganega', 0.9838709677419355),\n",
       " ('malbec', 0.9842748980780431),\n",
       " ('mourvèdre', 0.984375),\n",
       " ('petit verdot', 0.9844961240310077),\n",
       " ('viognier', 0.9862448418156808),\n",
       " ('grüner veltliner', 0.9867330016583747),\n",
       " ('white blend', 0.9874701670644391),\n",
       " ('verdejo', 0.9887005649717514),\n",
       " ('albariño', 0.9887005649717514),\n",
       " ('champagne blend', 0.9900709219858156),\n",
       " ('furmint', 0.9900990099009901),\n",
       " ('mencía', 0.9903846153846154),\n",
       " ('fortified blend', 0.9911504424778761),\n",
       " ('pinotage', 0.9912280701754386),\n",
       " ('aragónez', 0.9914004914004914),\n",
       " ('canari noir', 0.991864406779661),\n",
       " ('sémillon', 0.9921259842519685),\n",
       " ('nebbiolo', 0.9921602787456446),\n",
       " ('cabernet franc', 0.9933065595716198),\n",
       " ('shiraz', 0.9934333958724203),\n",
       " ('blauer arbst', 0.9939416419386746),\n",
       " ('merlot', 0.9941391941391942),\n",
       " ('sparkling blend', 0.9943788645306352),\n",
       " ('brunello', 0.9945842625039821),\n",
       " ('barbera', 0.9948186528497409),\n",
       " ('torrontés', 0.9948717948717949),\n",
       " ('red blend', 0.9949904580152672),\n",
       " ('zinfandel', 0.9950090744101633),\n",
       " ('sauvignon blanc', 0.9950838635049162),\n",
       " ('aglianico', 0.995260663507109),\n",
       " ('carmenère', 0.9953161592505855),\n",
       " ('alicante henri bouschet', 0.99609375),\n",
       " ('rose blend', 0.996309963099631),\n",
       " ('gewürztraminer', 0.9966273187183811),\n",
       " ('cabernet sauvignon', 0.9967037494849609),\n",
       " ('gamay', 0.9968051118210862),\n",
       " ('corvina, rondinella, molinara', 0.9968911917098445),\n",
       " ('crouchen', 0.9971163088753605),\n",
       " ('chardonnay', 0.9974680339283454),\n",
       " ('muscat', 0.9978858350951374),\n",
       " ('dolcetto', 1.0),\n",
       " ('roussanne', 1.0)]"
      ]
     },
     "execution_count": 22,
     "metadata": {},
     "output_type": "execute_result"
    }
   ],
   "source": [
    "import operator\n",
    "sorted_x = sorted(result.items(), key=operator.itemgetter(1))\n",
    "sorted_x"
   ]
  },
  {
   "cell_type": "code",
   "execution_count": 23,
   "metadata": {},
   "outputs": [
    {
     "data": {
      "text/plain": [
       "<BarContainer object of 53 artists>"
      ]
     },
     "execution_count": 23,
     "metadata": {},
     "output_type": "execute_result"
    },
    {
     "data": {
      "image/png": "[encoded data removed]",
      "text/plain": [
       "<Figure size 1008x1080 with 1 Axes>"
      ]
     },
     "metadata": {
      "needs_background": "light"
     },
     "output_type": "display_data"
    }
   ],
   "source": [
    "import matplotlib.pyplot as plt\n",
    "%matplotlib inline\n",
    "\n",
    "\n",
    "\n",
    "r = pd.DataFrame(sorted_x, columns=['Name', 'Acc'])\n",
    "plt.figure(figsize=(14,15))\n",
    "plt.xticks(rotation=90)\n",
    "plt.bar(r['Name'], r['Acc'])"
   ]
  },
  {
   "cell_type": "code",
   "execution_count": 24,
   "metadata": {},
   "outputs": [
    {
     "data": {
      "text/plain": [
       "0.8188342509967723"
      ]
     },
     "execution_count": 24,
     "metadata": {},
     "output_type": "execute_result"
    }
   ],
   "source": [
    "data_test = pd.read_csv(r'D:\\codebase\\notebooks\\course_tasks\\sommelier\\sommelier_test_clear_v2.csv')\n",
    "known_classses = list(data['super clear variety'].unique())\n",
    "data_test = data_test[data_test[\"super clear variety\"].isin(known_classses)]\n",
    "\n",
    "labels_test = data_test['super clear variety']\n",
    "descriptions_test = data_test['Description']\n",
    "\n",
    "\n",
    "X_test = vectorizer.transform(descriptions_test)\n",
    "y_test = ohe.transform(labels_test.values.reshape(-1,1))\n",
    "\n",
    "\n",
    "\n",
    "\n",
    "y_test_pred = model.predict(X_test)\n",
    "accuracy_score(labels_test, ohe.inverse_transform(y_test_pred))"
   ]
  },
  {
   "cell_type": "code",
   "execution_count": 25,
   "metadata": {},
   "outputs": [
    {
     "name": "stdout",
     "output_type": "stream",
     "text": [
      "shiraz  TOTAL:  1435 TRUE:  1157 PERCENT:  0.8062717770034843\n",
      "cabernet sauvignon  TOTAL:  2382 TRUE:  1946 PERCENT:  0.81696053736356\n",
      "grüner veltliner  TOTAL:  198 TRUE:  143 PERCENT:  0.7222222222222222\n",
      "brunello  TOTAL:  1032 TRUE:  873 PERCENT:  0.8459302325581395\n",
      "red blend  TOTAL:  4054 TRUE:  3467 PERCENT:  0.8552047360631475\n",
      "barbera  TOTAL:  234 TRUE:  208 PERCENT:  0.8888888888888888\n",
      "chardonnay  TOTAL:  2630 TRUE:  2379 PERCENT:  0.9045627376425855\n",
      "merlot  TOTAL:  917 TRUE:  704 PERCENT:  0.7677208287895311\n",
      "sauvignon blanc  TOTAL:  1149 TRUE:  960 PERCENT:  0.835509138381201\n",
      "blauer arbst  TOTAL:  2646 TRUE:  2266 PERCENT:  0.8563869992441421\n",
      "crouchen  TOTAL:  1001 TRUE:  871 PERCENT:  0.8701298701298701\n",
      "malbec  TOTAL:  565 TRUE:  416 PERCENT:  0.736283185840708\n",
      "zinfandel  TOTAL:  746 TRUE:  618 PERCENT:  0.8284182305630027\n",
      "white blend  TOTAL:  1093 TRUE:  866 PERCENT:  0.7923147301006405\n",
      "cabernet franc  TOTAL:  249 TRUE:  167 PERCENT:  0.6706827309236948\n",
      "sparkling blend  TOTAL:  609 TRUE:  526 PERCENT:  0.8637110016420362\n",
      "canari noir  TOTAL:  490 TRUE:  374 PERCENT:  0.763265306122449\n",
      "chenin blanc  TOTAL:  138 TRUE:  97 PERCENT:  0.7028985507246377\n",
      "muscat  TOTAL:  152 TRUE:  120 PERCENT:  0.7894736842105263\n",
      "aglianico  TOTAL:  62 TRUE:  44 PERCENT:  0.7096774193548387\n",
      "rose blend  TOTAL:  530 TRUE:  415 PERCENT:  0.7830188679245284\n",
      "nebbiolo  TOTAL:  418 TRUE:  363 PERCENT:  0.868421052631579\n",
      "mourvèdre  TOTAL:  56 TRUE:  34 PERCENT:  0.6071428571428571\n",
      "durif  TOTAL:  166 TRUE:  118 PERCENT:  0.7108433734939759\n",
      "champagne blend  TOTAL:  219 TRUE:  174 PERCENT:  0.7945205479452054\n",
      "pinot blanc  TOTAL:  123 TRUE:  69 PERCENT:  0.5609756097560976\n",
      "viognier  TOTAL:  227 TRUE:  157 PERCENT:  0.6916299559471366\n",
      "aragónez  TOTAL:  535 TRUE:  392 PERCENT:  0.7327102803738318\n",
      "cabernet sauvignon blend  TOTAL:  184 TRUE:  110 PERCENT:  0.5978260869565217\n",
      "mencía  TOTAL:  29 TRUE:  14 PERCENT:  0.4827586206896552\n",
      "tempranillo blend  TOTAL:  133 TRUE:  75 PERCENT:  0.5639097744360902\n",
      "carmenère  TOTAL:  141 TRUE:  103 PERCENT:  0.7304964539007093\n",
      "fortified blend  TOTAL:  214 TRUE:  171 PERCENT:  0.7990654205607477\n",
      "gewürztraminer  TOTAL:  191 TRUE:  139 PERCENT:  0.7277486910994765\n",
      "alicante henri bouschet  TOTAL:  80 TRUE:  56 PERCENT:  0.7\n",
      "blaufränkisch  TOTAL:  45 TRUE:  30 PERCENT:  0.6666666666666666\n",
      "albariño  TOTAL:  113 TRUE:  86 PERCENT:  0.7610619469026548\n",
      "corvina, rondinella, molinara  TOTAL:  311 TRUE:  272 PERCENT:  0.8745980707395499\n",
      "touriga nacional  TOTAL:  35 TRUE:  21 PERCENT:  0.6\n",
      "furmint  TOTAL:  39 TRUE:  32 PERCENT:  0.8205128205128205\n",
      "garganega  TOTAL:  70 TRUE:  56 PERCENT:  0.8\n",
      "petit verdot  TOTAL:  40 TRUE:  24 PERCENT:  0.6\n",
      "vermentino  TOTAL:  38 TRUE:  31 PERCENT:  0.8157894736842105\n",
      "zweigelt  TOTAL:  40 TRUE:  23 PERCENT:  0.575\n",
      "torrontés  TOTAL:  67 TRUE:  58 PERCENT:  0.8656716417910447\n",
      "garnatxa  TOTAL:  122 TRUE:  72 PERCENT:  0.5901639344262295\n",
      "pinotage  TOTAL:  40 TRUE:  24 PERCENT:  0.6\n",
      "verdejo  TOTAL:  54 TRUE:  37 PERCENT:  0.6851851851851852\n",
      "dolcetto  TOTAL:  68 TRUE:  59 PERCENT:  0.8676470588235294\n",
      "gamay  TOTAL:  98 TRUE:  64 PERCENT:  0.6530612244897959\n",
      "shiraz blend  TOTAL:  60 TRUE:  39 PERCENT:  0.65\n",
      "roussanne  TOTAL:  29 TRUE:  18 PERCENT:  0.6206896551724138\n",
      "sémillon  TOTAL:  38 TRUE:  26 PERCENT:  0.6842105263157895\n"
     ]
    }
   ],
   "source": [
    "uniqs  = list(data_test['super clear variety'].unique())\n",
    "results_pred = ohe.inverse_transform(y_test_pred)\n",
    "results = labels_test\n",
    "\n",
    "frame = pd.DataFrame(results)\n",
    "frame['Pred'] = results_pred\n",
    "total_cnt = frame.groupby(by='super clear variety').count().to_dict()['Pred']\n",
    "\n",
    "result = {}\n",
    "for v in uniqs:\n",
    "    cnt = total_cnt[v]\n",
    "    buf = frame[frame['super clear variety'] == v]['Pred'].value_counts()\n",
    "    result[v] = buf[v] / cnt\n",
    "    print(v, ' TOTAL: ',cnt, 'TRUE: ', buf[v], 'PERCENT: ', buf[v] / cnt)"
   ]
  },
  {
   "cell_type": "code",
   "execution_count": 26,
   "metadata": {},
   "outputs": [
    {
     "data": {
      "text/plain": [
       "[('mencía', 0.4827586206896552),\n",
       " ('pinot blanc', 0.5609756097560976),\n",
       " ('tempranillo blend', 0.5639097744360902),\n",
       " ('zweigelt', 0.575),\n",
       " ('garnatxa', 0.5901639344262295),\n",
       " ('cabernet sauvignon blend', 0.5978260869565217),\n",
       " ('touriga nacional', 0.6),\n",
       " ('petit verdot', 0.6),\n",
       " ('pinotage', 0.6),\n",
       " ('mourvèdre', 0.6071428571428571),\n",
       " ('roussanne', 0.6206896551724138),\n",
       " ('shiraz blend', 0.65),\n",
       " ('gamay', 0.6530612244897959),\n",
       " ('blaufränkisch', 0.6666666666666666),\n",
       " ('cabernet franc', 0.6706827309236948),\n",
       " ('sémillon', 0.6842105263157895),\n",
       " ('verdejo', 0.6851851851851852),\n",
       " ('viognier', 0.6916299559471366),\n",
       " ('alicante henri bouschet', 0.7),\n",
       " ('chenin blanc', 0.7028985507246377),\n",
       " ('aglianico', 0.7096774193548387),\n",
       " ('durif', 0.7108433734939759),\n",
       " ('grüner veltliner', 0.7222222222222222),\n",
       " ('gewürztraminer', 0.7277486910994765),\n",
       " ('carmenère', 0.7304964539007093),\n",
       " ('aragónez', 0.7327102803738318),\n",
       " ('malbec', 0.736283185840708),\n",
       " ('albariño', 0.7610619469026548),\n",
       " ('canari noir', 0.763265306122449),\n",
       " ('merlot', 0.7677208287895311),\n",
       " ('rose blend', 0.7830188679245284),\n",
       " ('muscat', 0.7894736842105263),\n",
       " ('white blend', 0.7923147301006405),\n",
       " ('champagne blend', 0.7945205479452054),\n",
       " ('fortified blend', 0.7990654205607477),\n",
       " ('garganega', 0.8),\n",
       " ('shiraz', 0.8062717770034843),\n",
       " ('vermentino', 0.8157894736842105),\n",
       " ('cabernet sauvignon', 0.81696053736356),\n",
       " ('furmint', 0.8205128205128205),\n",
       " ('zinfandel', 0.8284182305630027),\n",
       " ('sauvignon blanc', 0.835509138381201),\n",
       " ('brunello', 0.8459302325581395),\n",
       " ('red blend', 0.8552047360631475),\n",
       " ('blauer arbst', 0.8563869992441421),\n",
       " ('sparkling blend', 0.8637110016420362),\n",
       " ('torrontés', 0.8656716417910447),\n",
       " ('dolcetto', 0.8676470588235294),\n",
       " ('nebbiolo', 0.868421052631579),\n",
       " ('crouchen', 0.8701298701298701),\n",
       " ('corvina, rondinella, molinara', 0.8745980707395499),\n",
       " ('barbera', 0.8888888888888888),\n",
       " ('chardonnay', 0.9045627376425855)]"
      ]
     },
     "execution_count": 26,
     "metadata": {},
     "output_type": "execute_result"
    }
   ],
   "source": [
    "import operator\n",
    "sorted_x = sorted(result.items(), key=operator.itemgetter(1))\n",
    "sorted_x"
   ]
  },
  {
   "cell_type": "code",
   "execution_count": 27,
   "metadata": {},
   "outputs": [
    {
     "data": {
      "text/plain": [
       "<BarContainer object of 53 artists>"
      ]
     },
     "execution_count": 27,
     "metadata": {},
     "output_type": "execute_result"
    },
    {
     "data": {
      "image/png": "[encoded data removed]",
      "text/plain": [
       "<Figure size 1008x1080 with 1 Axes>"
      ]
     },
     "metadata": {
      "needs_background": "light"
     },
     "output_type": "display_data"
    }
   ],
   "source": [
    "import matplotlib.pyplot as plt\n",
    "%matplotlib inline\n",
    "\n",
    "\n",
    "\n",
    "r = pd.DataFrame(sorted_x, columns=['Name', 'Acc'])\n",
    "plt.figure(figsize=(14,15))\n",
    "plt.xticks(rotation=90)\n",
    "plt.bar(r['Name'], r['Acc'])"
   ]
  },
  {
   "cell_type": "code",
   "execution_count": null,
   "metadata": {},
   "outputs": [],
   "source": []
  }
 ],
 "metadata": {
  "kernelspec": {
   "display_name": "Python 3",
   "language": "python",
   "name": "python3"
  },
  "language_info": {
   "codemirror_mode": {
    "name": "ipython",
    "version": 3
   },
   "file_extension": ".py",
   "mimetype": "text/x-python",
   "name": "python",
   "nbconvert_exporter": "python",
   "pygments_lexer": "ipython3",
   "version": "3.6.5"
  }
 },
 "nbformat": 4,
 "nbformat_minor": 2
}
